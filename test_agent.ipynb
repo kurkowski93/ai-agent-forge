{
 "cells": [
  {
   "cell_type": "code",
   "execution_count": null,
   "metadata": {},
   "outputs": [],
   "source": [
    "from dotenv import load_dotenv\n",
    "import sys\n",
    "import os\n",
    "from IPython.display import Image, display\n",
    "from langchain_core.messages import AIMessage, HumanMessage, SystemMessage\n",
    "load_dotenv(override=True)"
   ]
  },
  {
   "cell_type": "code",
   "execution_count": null,
   "metadata": {},
   "outputs": [],
   "source": [
    "\n",
    "\n",
    "from agents_forge.core_agent.agent import generate_core_agent\n",
    "\n",
    "agent = await generate_core_agent()\n",
    "\n",
    "display(Image(agent.get_graph().draw_mermaid_png()))\n",
    "config = {\"configurable\": {\"thread_id\": \"10\"}}\n"
   ]
  },
  {
   "cell_type": "code",
   "execution_count": 3,
   "metadata": {},
   "outputs": [],
   "source": [
    "\n",
    "res = await agent.ainvoke(\n",
    "    {\n",
    "        \"messages\": \n",
    "            [HumanMessage(content=\"czesc, zbuduj agenta ktory bedzie robic research na temat AI na zadanych stronach www dla tech leada. chce konkretne wskazowki zeby sie cialge rozwijac. interesuje mnie glownie praktyczna wiedza i wskazowki przy implementacji. zaproponuj agenta. o nic nie dopytuj\")]},\n",
    "    config\n",
    "    )"
   ]
  },
  {
   "cell_type": "code",
   "execution_count": null,
   "metadata": {},
   "outputs": [],
   "source": [
    "print(res[\"messages\"][-1])"
   ]
  },
  {
   "cell_type": "code",
   "execution_count": 7,
   "metadata": {},
   "outputs": [],
   "source": [
    "res = await agent.ainvoke({\"messages\": [HumanMessage(content=\"\"\"\n",
    "generate\n",
    "\"\"\")]}, config)"
   ]
  },
  {
   "cell_type": "code",
   "execution_count": null,
   "metadata": {},
   "outputs": [],
   "source": [
    "type(agent.get_state(config).values[\"agent_config\"])"
   ]
  },
  {
   "cell_type": "code",
   "execution_count": null,
   "metadata": {},
   "outputs": [],
   "source": [
    "from pprint import pprint\n",
    "\n",
    "# Get the state snapshot\n",
    "state_snapshot = agent.get_state(config)\n",
    "\n",
    "# Format and print the state in a more readable way\n",
    "state_dict = {\n",
    "    \"messages\": [\n",
    "        {\n",
    "            \"type\": type(msg).__name__,\n",
    "            \"content\": msg.content\n",
    "        } for msg in state_snapshot.values['messages']\n",
    "    ],\n",
    "    \"planned_step\": state_snapshot.values.get('planned_step', 'N/A'),\n",
    "    \"thread_id\": state_snapshot.metadata['thread_id'],\n",
    "    \"step\": state_snapshot.metadata['step']\n",
    "}\n",
    "\n",
    "# Safely add agent_blueprint if it exists (checking both spellings)\n",
    "if 'agent_bleuprint' in state_snapshot.values:\n",
    "    state_dict[\"agent_blueprint\"] = state_snapshot.values['agent_bleuprint']\n",
    "elif 'agent_blueprint' in state_snapshot.values:\n",
    "    state_dict[\"agent_blueprint\"] = state_snapshot.values['agent_blueprint']\n",
    "else:\n",
    "    state_dict[\"agent_blueprint\"] = \"Not available\"\n",
    "\n",
    "pprint(state_dict)"
   ]
  },
  {
   "cell_type": "code",
   "execution_count": null,
   "metadata": {},
   "outputs": [],
   "source": [
    "import json\n",
    "from pathlib import Path\n",
    "\n",
    "# Pobierz stan agenta\n",
    "state_snapshot = agent.get_state(config)\n",
    "\n",
    "# Pobierz obiekt agent_config\n",
    "agent_config = state_snapshot.values.get('agent_config')\n",
    "\n",
    "# Ścieżka do pliku\n",
    "output_file = Path(\"agent_config.json\")\n",
    "\n",
    "# Sposób dla klas Pydantic\n",
    "try:\n",
    "    # Dla nowszych wersji Pydantic (v2+)\n",
    "    json_data = agent_config.model_dump()\n",
    "    with open(output_file, 'w', encoding='utf-8') as f:\n",
    "        json.dump(json_data, f, indent=4)\n",
    "    print(f\"Zapisano konfigurację do {output_file}\")\n",
    "except AttributeError:\n",
    "    try:\n",
    "        # Dla starszych wersji Pydantic (v1)\n",
    "        json_data = agent_config.dict()\n",
    "        with open(output_file, 'w', encoding='utf-8') as f:\n",
    "            json.dump(json_data, f, indent=4)\n",
    "        print(f\"Zapisano konfigurację do {output_file}\")\n",
    "    except AttributeError:\n",
    "        print(\"Obiekt agent_config nie jest klasą Pydantic. Spróbuj metody 2.\")"
   ]
  },
  {
   "cell_type": "code",
   "execution_count": null,
   "metadata": {},
   "outputs": [],
   "source": [
    "from agents_forge.agents_generation.generator import generate_agent_from_config\n",
    "import json\n",
    "# Wczytaj konfigurację agenta z pliku JSON\n",
    "\n",
    "with open(\"agent_config.json\", \"r\", encoding=\"utf-8\") as f:\n",
    "    agent_config_data = json.load(f)\n",
    "\n",
    "# Zaimportuj klasę AgentConfig do walidacji\n",
    "from agents_forge.agents_generation.config_schema import AgentConfig\n",
    "\n",
    "# Przekształć dane JSON na obiekt AgentConfig\n",
    "agent_config = AgentConfig.model_validate(agent_config_data)\n",
    "\n",
    "\n",
    "agent_2 = await generate_agent_from_config(agent_config)\n",
    "display(Image(agent_2.get_graph().draw_mermaid_png()))\n",
    "\n"
   ]
  },
  {
   "cell_type": "code",
   "execution_count": null,
   "metadata": {},
   "outputs": [],
   "source": [
    "result = await agent_2.ainvoke({\"messages\": [HumanMessage(content=\"do research on best langgraph practices\")]})\n",
    "\n"
   ]
  },
  {
   "cell_type": "code",
   "execution_count": null,
   "metadata": {},
   "outputs": [],
   "source": [
    "result"
   ]
  }
 ],
 "metadata": {
  "kernelspec": {
   "display_name": "venv",
   "language": "python",
   "name": "python3"
  },
  "language_info": {
   "codemirror_mode": {
    "name": "ipython",
    "version": 3
   },
   "file_extension": ".py",
   "mimetype": "text/x-python",
   "name": "python",
   "nbconvert_exporter": "python",
   "pygments_lexer": "ipython3",
   "version": "3.10.13"
  }
 },
 "nbformat": 4,
 "nbformat_minor": 2
}
