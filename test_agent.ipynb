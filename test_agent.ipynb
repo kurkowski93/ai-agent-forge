{
 "cells": [
  {
   "cell_type": "code",
   "execution_count": 1,
   "metadata": {},
   "outputs": [
    {
     "data": {
      "text/plain": [
       "True"
      ]
     },
     "execution_count": 1,
     "metadata": {},
     "output_type": "execute_result"
    }
   ],
   "source": [
    "from dotenv import load_dotenv\n",
    "import sys\n",
    "import os\n",
    "from IPython.display import Image, display\n",
    "from langchain_core.messages import AIMessage, HumanMessage, SystemMessage\n",
    "load_dotenv(override=True)"
   ]
  },
  {
   "cell_type": "code",
   "execution_count": null,
   "metadata": {},
   "outputs": [],
   "source": [
    "# Importowanie agenta\n",
    "from agents_forge.agents_generation.generator import generate_agent_from_config\n",
    "from agents_forge.agents_generation.state import AgentForgeState"
   ]
  },
  {
   "cell_type": "code",
   "execution_count": null,
   "metadata": {},
   "outputs": [],
   "source": []
  },
  {
   "cell_type": "code",
   "execution_count": 9,
   "metadata": {},
   "outputs": [],
   "source": [
    "agent = await generate_agent_from_config('example_config.json')"
   ]
  },
  {
   "cell_type": "code",
   "execution_count": null,
   "metadata": {},
   "outputs": [],
   "source": [
    "display(Image(agent.get_graph().draw_mermaid_png()))"
   ]
  },
  {
   "cell_type": "code",
   "execution_count": null,
   "metadata": {},
   "outputs": [],
   "source": [
    "\n",
    "result = await agent.ainvoke({\"messages\": [HumanMessage(content=\"\")]})\n"
   ]
  },
  {
   "cell_type": "code",
   "execution_count": null,
   "metadata": {},
   "outputs": [],
   "source": [
    "print(result['messages'][-1].content)"
   ]
  },
  {
   "cell_type": "code",
   "execution_count": 2,
   "metadata": {},
   "outputs": [
    {
     "data": {
      "image/png": "[encoded data removed]",
      "text/plain": [
       "<IPython.core.display.Image object>"
      ]
     },
     "metadata": {},
     "output_type": "display_data"
    }
   ],
   "source": [
    "\n",
    "\n",
    "from agents_forge.core_agent.agent import generate_agent\n",
    "\n",
    "agent = await generate_agent()\n",
    "\n",
    "display(Image(agent.get_graph().draw_mermaid_png()))\n"
   ]
  },
  {
   "cell_type": "code",
   "execution_count": 3,
   "metadata": {},
   "outputs": [],
   "source": [
    "config = {\"configurable\": {\"thread_id\": \"1\"}}\n",
    "\n",
    "res = await agent.ainvoke(\n",
    "    {\n",
    "        \"messages\": \n",
    "            [HumanMessage(content=\"czesc, zbuduj agenta ktory bedzie robic research na temat AI na zadanych stronach www\")]},\n",
    "    config\n",
    "    )"
   ]
  },
  {
   "cell_type": "code",
   "execution_count": 6,
   "metadata": {},
   "outputs": [
    {
     "name": "stdout",
     "output_type": "stream",
     "text": [
      "content='Cześć! Chciałbym zrozumieć lepiej, jakiego rodzaju research chciałbyś, aby agent przeprowadzał na stronach www dotyczących AI. Czy masz konkretne strony, które chciałbyś, aby agent zbadał? Jakie informacje są dla Ciebie najważniejsze (np. artykuły, badania, nowinki technologiczne)?' additional_kwargs={} response_metadata={} id='953e26cf-422d-410e-991c-a054f09dfd7d'\n"
     ]
    }
   ],
   "source": [
    "print(res[\"messages\"][-1])"
   ]
  },
  {
   "cell_type": "code",
   "execution_count": 7,
   "metadata": {},
   "outputs": [],
   "source": [
    "res = await agent.ainvoke({\"messages\": [HumanMessage(content=\"\"\"\n",
    "1. Chciałbym, aby agent przeszukiwał strony takie jak arXiv.org, MIT Technology Review, AI News, Google Scholar oraz blogi OpenAI i DeepMind.\n",
    "\n",
    "2. Agent powinien zbierać najnowsze artykuły naukowe, informacje o przełomowych badaniach oraz nowinki technologiczne związane z rozwojem sztucznej inteligencji.\n",
    "\n",
    "3. Preferuję format podsumowania z najważniejszymi punktami oraz linkami do oryginalnych źródeł, aby móc zagłębić się w interesujące tematy.\n",
    "\n",
    "4. Badania powinny być przeprowadzane co tydzień, aby być na bieżąco z szybko rozwijającą się dziedziną AI.\n",
    "\n",
    "5. Szczególnie interesują mnie zastosowania AI w medycynie, rozwój modeli wielomodalnych oraz postępy w obszarze uczenia przez wzmacnianie (reinforcement learning).\n",
    "                                                     \"\"\")]}, config)"
   ]
  },
  {
   "cell_type": "code",
   "execution_count": 12,
   "metadata": {},
   "outputs": [
    {
     "data": {
      "text/plain": [
       "'Based on the messages provided, here is the updated agent blueprint:\\n\\n---\\n\\n**Agent Blueprint: AI Research Agent**\\n\\n**Purpose:**  \\nTo conduct research on artificial intelligence (AI) by gathering and summarizing information from specified websites.\\n\\n**Functionality:**\\n\\n1. **Target Websites:**  \\n   The agent will search and gather information from the following websites:\\n   - arXiv.org\\n   - MIT Technology Review\\n   - AI News\\n   - Google Scholar\\n   - OpenAI blog\\n   - DeepMind blog\\n\\n2. **Research Focus:**  \\n   The agent will focus on collecting:\\n   - The latest scientific articles\\n   - Information on groundbreaking research\\n   - Technological advancements related to AI\\n\\n3. **Output Format:**  \\n   The agent will provide summaries that include:\\n   - Key points from the gathered information\\n   - Links to original sources for further exploration\\n\\n4. **Research Frequency:**  \\n   The agent will conduct research on a weekly basis to ensure up-to-date information in the rapidly evolving field of AI.\\n\\n5. **Specific Areas of Interest:**  \\n   The agent will pay special attention to:\\n   - Applications of AI in medicine\\n   - Development of multimodal models\\n   - Advances in reinforcement learning\\n\\n---\\n\\nThis updated blueprint incorporates the specific requirements and preferences expressed in the messages, ensuring that the agent is tailored to effectively conduct AI research as requested.'"
      ]
     },
     "execution_count": 12,
     "metadata": {},
     "output_type": "execute_result"
    }
   ],
   "source": [
    "agent.get_state(config).values[\"agent_config\"]"
   ]
  }
 ],
 "metadata": {
  "kernelspec": {
   "display_name": "venv",
   "language": "python",
   "name": "python3"
  },
  "language_info": {
   "codemirror_mode": {
    "name": "ipython",
    "version": 3
   },
   "file_extension": ".py",
   "mimetype": "text/x-python",
   "name": "python",
   "nbconvert_exporter": "python",
   "pygments_lexer": "ipython3",
   "version": "3.10.13"
  }
 },
 "nbformat": 4,
 "nbformat_minor": 2
}
